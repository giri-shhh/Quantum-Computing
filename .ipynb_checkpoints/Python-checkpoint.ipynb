{
 "cells": [
  {
   "cell_type": "code",
   "execution_count": null,
   "id": "499bfa85-5a8a-4842-808b-e5db7e7861bc",
   "metadata": {},
   "outputs": [],
   "source": []
  }
 ],
 "metadata": {
  "kernelspec": {
   "display_name": "Python 3 (ipykernel)",
   "language": "python",
   "name": "python3"
  },
  "language_info": {
   "name": ""
  }
 },
 "nbformat": 4,
 "nbformat_minor": 5
}
